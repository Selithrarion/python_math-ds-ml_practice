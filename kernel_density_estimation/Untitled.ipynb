{
 "cells": [
  {
   "cell_type": "code",
   "execution_count": 1,
   "id": "da2204a7",
   "metadata": {},
   "outputs": [
    {
     "data": {
      "text/plain": [
       "array([-10562.91076071])"
      ]
     },
     "execution_count": 1,
     "metadata": {},
     "output_type": "execute_result"
    }
   ],
   "source": [
    "from sklearn.neighbors import KernelDensity\n",
    "import numpy as np\n",
    "\n",
    "X = np.array([[-1,-1], [-2,-1], [-3,-2], [1,1], [2,1], [3,2]])\n",
    "kde = KernelDensity(kernel='gaussian', bandwidth=0.2).fit(X)\n",
    "\n",
    "kde.score_samples([[32,4]])"
   ]
  },
  {
   "cell_type": "code",
   "execution_count": 2,
   "id": "9b1da856",
   "metadata": {},
   "outputs": [
    {
     "data": {
      "text/plain": [
       "array([[-1.14774783, -1.06388398]])"
      ]
     },
     "execution_count": 2,
     "metadata": {},
     "output_type": "execute_result"
    }
   ],
   "source": [
    "kde.sample(1)"
   ]
  },
  {
   "cell_type": "code",
   "execution_count": 3,
   "id": "9659d5d7",
   "metadata": {},
   "outputs": [],
   "source": [
    "from sklearn.datasets import load_iris\n",
    "X, y = load_iris(return_X_y=True)"
   ]
  },
  {
   "cell_type": "code",
   "execution_count": 4,
   "id": "96ce193e",
   "metadata": {
    "scrolled": true
   },
   "outputs": [
    {
     "name": "stdout",
     "output_type": "stream",
     "text": [
      "[-3.82445045]\n",
      "[-8.13952384]\n",
      "[-12.91720053]\n"
     ]
    }
   ],
   "source": [
    "estimators = []\n",
    "for c in [0,1,2]:\n",
    "    m = KernelDensity().fit(X[y == c])\n",
    "    estimators.append(m)\n",
    "    \n",
    "for estimator in estimators:\n",
    "    print(estimator.score_samples([X[0]]))"
   ]
  },
  {
   "cell_type": "code",
   "execution_count": 5,
   "id": "3ba7f64b",
   "metadata": {},
   "outputs": [],
   "source": [
    "KernelDensity?"
   ]
  },
  {
   "cell_type": "code",
   "execution_count": null,
   "id": "9180f9e0",
   "metadata": {},
   "outputs": [],
   "source": []
  }
 ],
 "metadata": {
  "kernelspec": {
   "display_name": "Python 3 (ipykernel)",
   "language": "python",
   "name": "python3"
  },
  "language_info": {
   "codemirror_mode": {
    "name": "ipython",
    "version": 3
   },
   "file_extension": ".py",
   "mimetype": "text/x-python",
   "name": "python",
   "nbconvert_exporter": "python",
   "pygments_lexer": "ipython3",
   "version": "3.10.9"
  }
 },
 "nbformat": 4,
 "nbformat_minor": 5
}
