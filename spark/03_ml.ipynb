{
 "cells": [
  {
   "cell_type": "code",
   "execution_count": 18,
   "id": "3fcb9714",
   "metadata": {},
   "outputs": [],
   "source": [
    "from pyspark.sql import SparkSession\n",
    "from pyspark.ml import Pipeline\n",
    "from pyspark.ml.feature import VectorAssembler, StringIndexer, OneHotEncoder, RFormula\n",
    "from pyspark.ml.regression import RandomForestRegressor, LinearRegression, DecisionTreeRegressor\n",
    "from pyspark.ml.evaluation import RegressionEvaluator\n",
    "import pandas as pd\n",
    "import click"
   ]
  },
  {
   "cell_type": "code",
   "execution_count": 3,
   "id": "cb2591c4",
   "metadata": {},
   "outputs": [],
   "source": [
    "spark = SparkSession.builder.appName('app').getOrCreate()"
   ]
  },
  {
   "cell_type": "code",
   "execution_count": 5,
   "id": "b9c0bde5",
   "metadata": {},
   "outputs": [
    {
     "name": "stdout",
     "output_type": "stream",
     "text": [
      "+----------------------+---------------+--------+---------+-----------------+-----+\n",
      "|neighbourhood_cleansed|      room_type|bedrooms|bathrooms|number_of_reviews|price|\n",
      "+----------------------+---------------+--------+---------+-----------------+-----+\n",
      "|      Western Addition|Entire home/apt|     1.0|      1.0|            180.0|170.0|\n",
      "|        Bernal Heights|Entire home/apt|     2.0|      1.0|            111.0|235.0|\n",
      "|        Haight Ashbury|   Private room|     1.0|      4.0|             17.0| 65.0|\n",
      "|        Haight Ashbury|   Private room|     1.0|      4.0|              8.0| 65.0|\n",
      "|      Western Addition|Entire home/apt|     2.0|      1.5|             27.0|785.0|\n",
      "+----------------------+---------------+--------+---------+-----------------+-----+\n",
      "only showing top 5 rows\n",
      "\n"
     ]
    }
   ],
   "source": [
    "df = spark.read.parquet('./data3.parquet')\n",
    "df.select('neighbourhood_cleansed', 'room_type', 'bedrooms', 'bathrooms', 'number_of_reviews', 'price').show(5)"
   ]
  },
  {
   "cell_type": "code",
   "execution_count": 6,
   "id": "cf48ae1b",
   "metadata": {},
   "outputs": [
    {
     "data": {
      "text/plain": [
       "(5663, 1483)"
      ]
     },
     "execution_count": 6,
     "metadata": {},
     "output_type": "execute_result"
    }
   ],
   "source": [
    "train, test = df.randomSplit([.8, .2])\n",
    "train.count(), test.count()"
   ]
  },
  {
   "cell_type": "code",
   "execution_count": 7,
   "id": "7b7b1cd5",
   "metadata": {},
   "outputs": [
    {
     "name": "stdout",
     "output_type": "stream",
     "text": [
      "+--------+--------+-----+\n",
      "|bedrooms|features|price|\n",
      "+--------+--------+-----+\n",
      "|     1.0|   [1.0]|200.0|\n",
      "|     1.0|   [1.0]|130.0|\n",
      "|     1.0|   [1.0]| 85.0|\n",
      "|     1.0|   [1.0]| 95.0|\n",
      "|     1.0|   [1.0]|250.0|\n",
      "+--------+--------+-----+\n",
      "only showing top 5 rows\n",
      "\n"
     ]
    }
   ],
   "source": [
    "va = VectorAssembler(inputCols=['bedrooms'], outputCol='features')\n",
    "train_df = va.transform(train)\n",
    "train_df.select('bedrooms', 'features', 'price').show(5)"
   ]
  },
  {
   "cell_type": "code",
   "execution_count": 8,
   "id": "c00ae6e0",
   "metadata": {},
   "outputs": [],
   "source": [
    "lr = LinearRegression(featuresCol='features', labelCol='price')\n",
    "lr_model = lr.fit(train_df)"
   ]
  },
  {
   "cell_type": "code",
   "execution_count": 9,
   "id": "57bc8649",
   "metadata": {},
   "outputs": [
    {
     "name": "stdout",
     "output_type": "stream",
     "text": [
      "price - 116.22 * bedrooms + 54.35\n"
     ]
    }
   ],
   "source": [
    "m = round(lr_model.coefficients[0], 2)\n",
    "b = round(lr_model.intercept, 2)\n",
    "print(f\"price - {m} * bedrooms + {b}\")"
   ]
  },
  {
   "cell_type": "code",
   "execution_count": 10,
   "id": "ec4f5b95",
   "metadata": {},
   "outputs": [],
   "source": [
    "pipeline = Pipeline(stages=[va, lr])\n",
    "pipeline_model = pipeline.fit(train)"
   ]
  },
  {
   "cell_type": "code",
   "execution_count": 11,
   "id": "f7a96acf",
   "metadata": {},
   "outputs": [
    {
     "name": "stdout",
     "output_type": "stream",
     "text": [
      "+--------+--------+-----+------------------+\n",
      "|bedrooms|features|price|        prediction|\n",
      "+--------+--------+-----+------------------+\n",
      "|     3.0|   [3.0]|250.0|403.00459325657954|\n",
      "|     1.0|   [1.0]| 45.0|  170.570383059947|\n",
      "|     1.0|   [1.0]|130.0|  170.570383059947|\n",
      "|     1.0|   [1.0]|250.0|  170.570383059947|\n",
      "|     1.0|   [1.0]|100.0|  170.570383059947|\n",
      "|     2.0|   [2.0]|250.0| 286.7874881582633|\n",
      "|     1.0|   [1.0]|100.0|  170.570383059947|\n",
      "|     1.0|   [1.0]|190.0|  170.570383059947|\n",
      "|     3.0|   [3.0]|300.0|403.00459325657954|\n",
      "|     1.0|   [1.0]|129.0|  170.570383059947|\n",
      "+--------+--------+-----+------------------+\n",
      "only showing top 10 rows\n",
      "\n"
     ]
    }
   ],
   "source": [
    "pred_df = pipeline_model.transform(test)\n",
    "pred_df.select('bedrooms', 'features', 'price', 'prediction').show(10)"
   ]
  },
  {
   "cell_type": "code",
   "execution_count": 12,
   "id": "a8607391",
   "metadata": {},
   "outputs": [
    {
     "name": "stdout",
     "output_type": "stream",
     "text": [
      "rmse is 384.8\n"
     ]
    }
   ],
   "source": [
    "reg_ev = RegressionEvaluator(predictionCol='prediction', labelCol='price', metricName='rmse')\n",
    "rmse = reg_ev.evaluate(pred_df)\n",
    "print(f\"rmse is {rmse:.1f}\")"
   ]
  },
  {
   "cell_type": "code",
   "execution_count": 13,
   "id": "85cb488b",
   "metadata": {},
   "outputs": [
    {
     "data": {
      "text/plain": [
       "0.09109169299356967"
      ]
     },
     "execution_count": 13,
     "metadata": {},
     "output_type": "execute_result"
    }
   ],
   "source": [
    "r2 = reg_ev.setMetricName('r2').evaluate(pred_df)\n",
    "r2"
   ]
  },
  {
   "cell_type": "code",
   "execution_count": 14,
   "id": "b1c4b581",
   "metadata": {},
   "outputs": [],
   "source": [
    "pipeline_model.write().overwrite().save('./saved_pipeline')"
   ]
  },
  {
   "cell_type": "code",
   "execution_count": null,
   "id": "cd9bf757",
   "metadata": {},
   "outputs": [],
   "source": [
    "from pyspark.ml import PipelineModel\n",
    "saved = PipelineModel.load('./saved_pipeline')"
   ]
  },
  {
   "cell_type": "code",
   "execution_count": null,
   "id": "c8b410d4",
   "metadata": {},
   "outputs": [],
   "source": []
  }
 ],
 "metadata": {
  "kernelspec": {
   "display_name": "Python 3 (ipykernel)",
   "language": "python",
   "name": "python3"
  },
  "language_info": {
   "codemirror_mode": {
    "name": "ipython",
    "version": 3
   },
   "file_extension": ".py",
   "mimetype": "text/x-python",
   "name": "python",
   "nbconvert_exporter": "python",
   "pygments_lexer": "ipython3",
   "version": "3.10.9"
  }
 },
 "nbformat": 4,
 "nbformat_minor": 5
}
