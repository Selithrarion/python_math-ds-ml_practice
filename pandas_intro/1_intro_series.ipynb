{
 "cells": [
  {
   "cell_type": "code",
   "execution_count": 1,
   "id": "f037e497",
   "metadata": {},
   "outputs": [],
   "source": [
    "import pandas as pd\n",
    "import numpy as np"
   ]
  },
  {
   "cell_type": "code",
   "execution_count": 2,
   "id": "138e3dda",
   "metadata": {},
   "outputs": [],
   "source": [
    "pd.Series?"
   ]
  },
  {
   "cell_type": "code",
   "execution_count": 3,
   "id": "73d7cc46",
   "metadata": {},
   "outputs": [
    {
     "data": {
      "text/plain": [
       "a   -0.357563\n",
       "b    0.036702\n",
       "c    1.883980\n",
       "d    0.054622\n",
       "e   -0.928298\n",
       "Name: example, dtype: float64"
      ]
     },
     "execution_count": 3,
     "metadata": {},
     "output_type": "execute_result"
    }
   ],
   "source": [
    "s = pd.Series(\n",
    "    np.random.randn(5),\n",
    "    index=['a','b','c','d','e'],\n",
    "    name='example'\n",
    ")\n",
    "s"
   ]
  },
  {
   "cell_type": "code",
   "execution_count": 9,
   "id": "8eadb9d9",
   "metadata": {},
   "outputs": [
    {
     "data": {
      "text/plain": [
       "a    5\n",
       "b    5\n",
       "c    5\n",
       "d    5\n",
       "e    5\n",
       "dtype: int64"
      ]
     },
     "execution_count": 9,
     "metadata": {},
     "output_type": "execute_result"
    }
   ],
   "source": [
    "pd.Series(5, index=['a','b','c','d','e'])"
   ]
  },
  {
   "cell_type": "code",
   "execution_count": 10,
   "id": "671209e0",
   "metadata": {},
   "outputs": [
    {
     "data": {
      "text/plain": [
       "-0.3575629805400588"
      ]
     },
     "execution_count": 10,
     "metadata": {},
     "output_type": "execute_result"
    }
   ],
   "source": [
    "s[0]"
   ]
  },
  {
   "cell_type": "code",
   "execution_count": 11,
   "id": "6918a6e2",
   "metadata": {},
   "outputs": [
    {
     "data": {
      "text/plain": [
       "a   -0.357563\n",
       "b    0.036702\n",
       "c    1.883980\n",
       "Name: example, dtype: float64"
      ]
     },
     "execution_count": 11,
     "metadata": {},
     "output_type": "execute_result"
    }
   ],
   "source": [
    "s[:3]"
   ]
  },
  {
   "cell_type": "code",
   "execution_count": 12,
   "id": "1bca9a6c",
   "metadata": {},
   "outputs": [
    {
     "data": {
      "text/plain": [
       "e   -0.928298\n",
       "d    0.054622\n",
       "b    0.036702\n",
       "Name: example, dtype: float64"
      ]
     },
     "execution_count": 12,
     "metadata": {},
     "output_type": "execute_result"
    }
   ],
   "source": [
    "s[[4,3,1]]"
   ]
  },
  {
   "cell_type": "code",
   "execution_count": 13,
   "id": "1e335b8a",
   "metadata": {},
   "outputs": [
    {
     "data": {
      "text/plain": [
       "array([-0.35756298,  0.03670245,  1.88398002,  0.05462196, -0.92829769])"
      ]
     },
     "execution_count": 13,
     "metadata": {},
     "output_type": "execute_result"
    }
   ],
   "source": [
    "s.values"
   ]
  },
  {
   "cell_type": "code",
   "execution_count": 15,
   "id": "98e873c5",
   "metadata": {},
   "outputs": [
    {
     "data": {
      "text/plain": [
       "a     -0.357563\n",
       "b      0.036702\n",
       "c      1.883980\n",
       "d      0.054622\n",
       "e    500.000000\n",
       "Name: example, dtype: float64"
      ]
     },
     "execution_count": 15,
     "metadata": {},
     "output_type": "execute_result"
    }
   ],
   "source": [
    "s['e'] = 500\n",
    "s"
   ]
  },
  {
   "cell_type": "code",
   "execution_count": 16,
   "id": "21acb5b1",
   "metadata": {},
   "outputs": [
    {
     "data": {
      "text/plain": [
       "a     -0.357563\n",
       "b      0.036702\n",
       "e    500.000000\n",
       "Name: example, dtype: float64"
      ]
     },
     "execution_count": 16,
     "metadata": {},
     "output_type": "execute_result"
    }
   ],
   "source": [
    "s[[True,True,False,False,True]]"
   ]
  },
  {
   "cell_type": "code",
   "execution_count": 17,
   "id": "2c60a4b0",
   "metadata": {},
   "outputs": [
    {
     "data": {
      "text/plain": [
       "(b      0.036702\n",
       " c      1.883980\n",
       " d      0.054622\n",
       " e    500.000000\n",
       " Name: example, dtype: float64,\n",
       " a    False\n",
       " b     True\n",
       " c     True\n",
       " d     True\n",
       " e     True\n",
       " Name: example, dtype: bool)"
      ]
     },
     "execution_count": 17,
     "metadata": {},
     "output_type": "execute_result"
    }
   ],
   "source": [
    "s[s>0], s>0"
   ]
  },
  {
   "cell_type": "code",
   "execution_count": 23,
   "id": "7eca817e",
   "metadata": {},
   "outputs": [
    {
     "data": {
      "text/plain": [
       "a     -0.357563\n",
       "b     -0.036702\n",
       "c      1.883980\n",
       "d     -0.054622\n",
       "e    500.000000\n",
       "Name: example, dtype: float64"
      ]
     },
     "execution_count": 23,
     "metadata": {},
     "output_type": "execute_result"
    }
   ],
   "source": [
    "s[s < 1] *= -1\n",
    "s"
   ]
  },
  {
   "cell_type": "code",
   "execution_count": 24,
   "id": "822a02e1",
   "metadata": {},
   "outputs": [
    {
     "data": {
      "text/plain": [
       "a    False\n",
       "b    False\n",
       "c     True\n",
       "d    False\n",
       "e     True\n",
       "Name: example, dtype: bool"
      ]
     },
     "execution_count": 24,
     "metadata": {},
     "output_type": "execute_result"
    }
   ],
   "source": [
    "s>0"
   ]
  },
  {
   "cell_type": "code",
   "execution_count": 25,
   "id": "df07322e",
   "metadata": {},
   "outputs": [
    {
     "data": {
      "text/plain": [
       "a      -0.715126\n",
       "b      -0.073405\n",
       "c       3.767960\n",
       "d      -0.109244\n",
       "e    1000.000000\n",
       "Name: example, dtype: float64"
      ]
     },
     "execution_count": 25,
     "metadata": {},
     "output_type": "execute_result"
    }
   ],
   "source": [
    "s+s"
   ]
  },
  {
   "cell_type": "code",
   "execution_count": 26,
   "id": "19512beb",
   "metadata": {},
   "outputs": [
    {
     "data": {
      "text/plain": [
       "a     6.993787e-01\n",
       "b     9.639629e-01\n",
       "c     6.579640e+00\n",
       "d     9.468430e-01\n",
       "e    1.403592e+217\n",
       "Name: example, dtype: float64"
      ]
     },
     "execution_count": 26,
     "metadata": {},
     "output_type": "execute_result"
    }
   ],
   "source": [
    "np.exp(s)"
   ]
  },
  {
   "cell_type": "code",
   "execution_count": 27,
   "id": "d5be2a3b",
   "metadata": {},
   "outputs": [
    {
     "data": {
      "text/plain": [
       "100.2870185246117"
      ]
     },
     "execution_count": 27,
     "metadata": {},
     "output_type": "execute_result"
    }
   ],
   "source": [
    "s.mean()"
   ]
  },
  {
   "cell_type": "code",
   "execution_count": 28,
   "id": "cd4e7b52",
   "metadata": {},
   "outputs": [
    {
     "data": {
      "text/plain": [
       "a           NaN\n",
       "b           NaN\n",
       "c       3.76796\n",
       "d           NaN\n",
       "e    1000.00000\n",
       "Name: example, dtype: float64"
      ]
     },
     "execution_count": 28,
     "metadata": {},
     "output_type": "execute_result"
    }
   ],
   "source": [
    "s+s[s>0]"
   ]
  }
 ],
 "metadata": {
  "kernelspec": {
   "display_name": "Python 3 (ipykernel)",
   "language": "python",
   "name": "python3"
  },
  "language_info": {
   "codemirror_mode": {
    "name": "ipython",
    "version": 3
   },
   "file_extension": ".py",
   "mimetype": "text/x-python",
   "name": "python",
   "nbconvert_exporter": "python",
   "pygments_lexer": "ipython3",
   "version": "3.10.9"
  }
 },
 "nbformat": 4,
 "nbformat_minor": 5
}
