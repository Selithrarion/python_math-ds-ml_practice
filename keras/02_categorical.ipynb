{
 "cells": [
  {
   "cell_type": "code",
   "execution_count": 1,
   "id": "54b03d2a",
   "metadata": {},
   "outputs": [],
   "source": [
    "from sklearn.datasets import make_classification"
   ]
  },
  {
   "cell_type": "code",
   "execution_count": 3,
   "id": "ca3b82b6",
   "metadata": {},
   "outputs": [],
   "source": [
    "dataset = make_classification(\n",
    "    n_samples=10_000,\n",
    "    n_features=25,\n",
    "    n_informative=10,\n",
    "    n_classes=2\n",
    ")\n",
    "x,y = dataset"
   ]
  },
  {
   "cell_type": "code",
   "execution_count": 5,
   "id": "ceeeb3ab",
   "metadata": {},
   "outputs": [],
   "source": [
    "import pandas as pd\n",
    "import numpy as np\n",
    "\n",
    "np.set_printoptions(precision=2)"
   ]
  },
  {
   "cell_type": "code",
   "execution_count": 7,
   "id": "7668deb4",
   "metadata": {},
   "outputs": [],
   "source": [
    "num_categories = 100\n",
    "for i in range(5):\n",
    "    x[:, i] = pd.cut(x[:, i], num_categories, labels=False)"
   ]
  },
  {
   "cell_type": "code",
   "execution_count": 8,
   "id": "6a91bd71",
   "metadata": {},
   "outputs": [
    {
     "data": {
      "text/plain": [
       "array([ 5.00e+01,  6.10e+01,  8.40e+01,  2.40e+01,  2.10e+01, -2.49e+00,\n",
       "       -2.79e-01,  2.17e+00, -3.59e-01, -5.50e-01,  3.61e+00, -4.01e-01,\n",
       "        1.92e+00,  2.76e+00, -4.46e-02, -6.29e-01, -4.53e-01,  9.99e-01,\n",
       "       -6.61e+00,  4.66e+00, -7.02e-01,  2.29e-01, -3.84e-01, -1.09e+00,\n",
       "        2.78e+00])"
      ]
     },
     "execution_count": 8,
     "metadata": {},
     "output_type": "execute_result"
    }
   ],
   "source": [
    "x[0]"
   ]
  },
  {
   "cell_type": "code",
   "execution_count": 14,
   "id": "2be21b8c",
   "metadata": {},
   "outputs": [],
   "source": [
    "x_numeric = x[:, 5:]\n",
    "x_cat = x[:, :5]"
   ]
  },
  {
   "cell_type": "code",
   "execution_count": 15,
   "id": "1dd9162c",
   "metadata": {},
   "outputs": [],
   "source": [
    "from sklearn.preprocessing import StandardScaler\n",
    "\n",
    "ss = StandardScaler()\n",
    " \n",
    "x_s = ss.fit_transform(x_numeric)"
   ]
  },
  {
   "cell_type": "code",
   "execution_count": 16,
   "id": "0a3b940b",
   "metadata": {},
   "outputs": [],
   "source": [
    "import tensorflow as tf\n",
    "\n",
    "p = .1\n",
    "\n",
    "numerics_inputs = tf.keras.layers.Input((20,), name='numeric_inputs')\n",
    "cat_inputs = tf.keras.layers.Input((5,), name='cat_inputs')"
   ]
  },
  {
   "cell_type": "code",
   "execution_count": 17,
   "id": "cb95a614",
   "metadata": {},
   "outputs": [],
   "source": [
    "def emb_sz_rule(n_cat):\n",
    "    return min(600, round(1.6 * n_cat**0.56))\n",
    "\n",
    "embedding_layer = tf.keras.layers.Embedding(\n",
    "    num_categories,\n",
    "    emb_sz_rule(num_categories),\n",
    "    input_length=5\n",
    ")\n",
    "cat_inputs = embedding_layer(cat_inputs)\n",
    "cat_inputs = tf.keras.layers.Flatten()(cat_inputs)"
   ]
  },
  {
   "cell_type": "code",
   "execution_count": 18,
   "id": "24fb0a3a",
   "metadata": {},
   "outputs": [],
   "source": [
    "x = tf.keras.layers.Concatenate()([cat_inputs, numerics_inputs])\n",
    "\n",
    "x = tf.keras.layers.Dropout(p)(x)\n",
    "x = tf.keras.layers.Dense(100, activation='relu')(x)\n",
    "\n",
    "x = tf.keras.layers.BatchNormalization()(x)\n",
    "x = tf.keras.layers.Dropout(p)(x)\n",
    "x = tf.keras.layers.Dense(20, activation='relu')(x)\n",
    "\n",
    "x = tf.keras.layers.BatchNormalization()(x)\n",
    "x = tf.keras.layers.Dropout(p)(x)\n",
    "x = tf.keras.layers.Dense(10, activation='relu')(x)\n",
    "\n",
    "x = tf.keras.layers.BatchNormalization()(x)\n",
    "x = tf.keras.layers.Dropout(p)(x)\n",
    "x = tf.keras.layers.Dense(1, activation='sigmoid', name='output')(x)"
   ]
  },
  {
   "cell_type": "code",
   "execution_count": 20,
   "id": "2aa2416c",
   "metadata": {},
   "outputs": [],
   "source": [
    "model = tf.keras.models.Model(\n",
    "    inputs=[numerics_inputs, cat_inputs], outputs=x\n",
    ")\n",
    "model.compile(optimizer='rmsprop', loss=tf.keras.losses.binary_crossentropy, metrics=['accuracy'])"
   ]
  },
  {
   "cell_type": "code",
   "execution_count": 21,
   "id": "c3eef8cd",
   "metadata": {},
   "outputs": [
    {
     "name": "stdout",
     "output_type": "stream",
     "text": [
      "Model: \"model\"\n",
      "__________________________________________________________________________________________________\n",
      " Layer (type)                   Output Shape         Param #     Connected to                     \n",
      "==================================================================================================\n",
      " input_1 (InputLayer)           [(None, 105)]        0           []                               \n",
      "                                                                                                  \n",
      " numeric_inputs (InputLayer)    [(None, 20)]         0           []                               \n",
      "                                                                                                  \n",
      " concatenate (Concatenate)      (None, 125)          0           ['input_1[0][0]',                \n",
      "                                                                  'numeric_inputs[0][0]']         \n",
      "                                                                                                  \n",
      " dropout (Dropout)              (None, 125)          0           ['concatenate[1][0]']            \n",
      "                                                                                                  \n",
      " dense (Dense)                  (None, 100)          12600       ['dropout[1][0]']                \n",
      "                                                                                                  \n",
      " batch_normalization (BatchNorm  (None, 100)         400         ['dense[1][0]']                  \n",
      " alization)                                                                                       \n",
      "                                                                                                  \n",
      " dropout_1 (Dropout)            (None, 100)          0           ['batch_normalization[1][0]']    \n",
      "                                                                                                  \n",
      " dense_1 (Dense)                (None, 20)           2020        ['dropout_1[1][0]']              \n",
      "                                                                                                  \n",
      " batch_normalization_1 (BatchNo  (None, 20)          80          ['dense_1[1][0]']                \n",
      " rmalization)                                                                                     \n",
      "                                                                                                  \n",
      " dropout_2 (Dropout)            (None, 20)           0           ['batch_normalization_1[1][0]']  \n",
      "                                                                                                  \n",
      " dense_2 (Dense)                (None, 10)           210         ['dropout_2[1][0]']              \n",
      "                                                                                                  \n",
      " batch_normalization_2 (BatchNo  (None, 10)          40          ['dense_2[1][0]']                \n",
      " rmalization)                                                                                     \n",
      "                                                                                                  \n",
      " dropout_3 (Dropout)            (None, 10)           0           ['batch_normalization_2[1][0]']  \n",
      "                                                                                                  \n",
      " output (Dense)                 (None, 1)            11          ['dropout_3[1][0]']              \n",
      "                                                                                                  \n",
      "==================================================================================================\n",
      "Total params: 15,361\n",
      "Trainable params: 15,101\n",
      "Non-trainable params: 260\n",
      "__________________________________________________________________________________________________\n"
     ]
    }
   ],
   "source": [
    "model.summary()"
   ]
  },
  {
   "cell_type": "code",
   "execution_count": null,
   "id": "0eb93431",
   "metadata": {},
   "outputs": [],
   "source": []
  }
 ],
 "metadata": {
  "kernelspec": {
   "display_name": "Python 3 (ipykernel)",
   "language": "python",
   "name": "python3"
  },
  "language_info": {
   "codemirror_mode": {
    "name": "ipython",
    "version": 3
   },
   "file_extension": ".py",
   "mimetype": "text/x-python",
   "name": "python",
   "nbconvert_exporter": "python",
   "pygments_lexer": "ipython3",
   "version": "3.10.9"
  }
 },
 "nbformat": 4,
 "nbformat_minor": 5
}
