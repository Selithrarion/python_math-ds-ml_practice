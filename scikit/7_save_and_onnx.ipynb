{
 "cells": [
  {
   "cell_type": "code",
   "execution_count": 1,
   "id": "1431f7e1",
   "metadata": {},
   "outputs": [],
   "source": [
    "import pandas as pd\n",
    "from joblib import dump\n",
    "\n",
    "from sklearn.pipeline import make_pipeline, make_union\n",
    "from sklearn.linear_model import LogisticRegression\n",
    "from sklearn.feature_extraction.text import CountVectorizer"
   ]
  },
  {
   "cell_type": "code",
   "execution_count": 2,
   "id": "d91b7f73",
   "metadata": {},
   "outputs": [
    {
     "data": {
      "text/html": [
       "<div>\n",
       "<style scoped>\n",
       "    .dataframe tbody tr th:only-of-type {\n",
       "        vertical-align: middle;\n",
       "    }\n",
       "\n",
       "    .dataframe tbody tr th {\n",
       "        vertical-align: top;\n",
       "    }\n",
       "\n",
       "    .dataframe thead th {\n",
       "        text-align: right;\n",
       "    }\n",
       "</style>\n",
       "<table border=\"1\" class=\"dataframe\">\n",
       "  <thead>\n",
       "    <tr style=\"text-align: right;\">\n",
       "      <th></th>\n",
       "      <th>text</th>\n",
       "      <th>label</th>\n",
       "      <th>split</th>\n",
       "    </tr>\n",
       "  </thead>\n",
       "  <tbody>\n",
       "    <tr>\n",
       "      <th>0</th>\n",
       "      <td>what expression would i use to say i love you ...</td>\n",
       "      <td>61</td>\n",
       "      <td>train</td>\n",
       "    </tr>\n",
       "    <tr>\n",
       "      <th>1</th>\n",
       "      <td>can you tell me how to say 'i do not speak muc...</td>\n",
       "      <td>61</td>\n",
       "      <td>train</td>\n",
       "    </tr>\n",
       "    <tr>\n",
       "      <th>2</th>\n",
       "      <td>what is the equivalent of, 'life is good' in f...</td>\n",
       "      <td>61</td>\n",
       "      <td>train</td>\n",
       "    </tr>\n",
       "    <tr>\n",
       "      <th>3</th>\n",
       "      <td>tell me how to say, 'it is a beautiful morning...</td>\n",
       "      <td>61</td>\n",
       "      <td>train</td>\n",
       "    </tr>\n",
       "    <tr>\n",
       "      <th>4</th>\n",
       "      <td>if i were mongolian, how would i say that i am...</td>\n",
       "      <td>61</td>\n",
       "      <td>train</td>\n",
       "    </tr>\n",
       "    <tr>\n",
       "      <th>...</th>\n",
       "      <td>...</td>\n",
       "      <td>...</td>\n",
       "      <td>...</td>\n",
       "    </tr>\n",
       "    <tr>\n",
       "      <th>20745</th>\n",
       "      <td>find my wallet</td>\n",
       "      <td>42</td>\n",
       "      <td>valid</td>\n",
       "    </tr>\n",
       "    <tr>\n",
       "      <th>20746</th>\n",
       "      <td>can you give me the gps location of harvey</td>\n",
       "      <td>42</td>\n",
       "      <td>valid</td>\n",
       "    </tr>\n",
       "    <tr>\n",
       "      <th>20747</th>\n",
       "      <td>where's my buddy steve right this second</td>\n",
       "      <td>42</td>\n",
       "      <td>valid</td>\n",
       "    </tr>\n",
       "    <tr>\n",
       "      <th>20748</th>\n",
       "      <td>locate jenny at her present position</td>\n",
       "      <td>42</td>\n",
       "      <td>valid</td>\n",
       "    </tr>\n",
       "    <tr>\n",
       "      <th>20749</th>\n",
       "      <td>let me know where jim is right now</td>\n",
       "      <td>42</td>\n",
       "      <td>valid</td>\n",
       "    </tr>\n",
       "  </tbody>\n",
       "</table>\n",
       "<p>20750 rows × 3 columns</p>\n",
       "</div>"
      ],
      "text/plain": [
       "                                                    text  label  split\n",
       "0      what expression would i use to say i love you ...     61  train\n",
       "1      can you tell me how to say 'i do not speak muc...     61  train\n",
       "2      what is the equivalent of, 'life is good' in f...     61  train\n",
       "3      tell me how to say, 'it is a beautiful morning...     61  train\n",
       "4      if i were mongolian, how would i say that i am...     61  train\n",
       "...                                                  ...    ...    ...\n",
       "20745                                     find my wallet     42  valid\n",
       "20746         can you give me the gps location of harvey     42  valid\n",
       "20747           where's my buddy steve right this second     42  valid\n",
       "20748               locate jenny at her present position     42  valid\n",
       "20749                 let me know where jim is right now     42  valid\n",
       "\n",
       "[20750 rows x 3 columns]"
      ]
     },
     "execution_count": 2,
     "metadata": {},
     "output_type": "execute_result"
    }
   ],
   "source": [
    "url = 'https://raw.githubusercontent.com/koaning/onnx-demo/main/clinc_oos-plus.csv'\n",
    "df = pd.read_csv(url)\n",
    "df"
   ]
  },
  {
   "cell_type": "code",
   "execution_count": 3,
   "id": "49819736",
   "metadata": {},
   "outputs": [
    {
     "data": {
      "text/plain": [
       "['7_save.joblib']"
      ]
     },
     "execution_count": 3,
     "metadata": {},
     "output_type": "execute_result"
    }
   ],
   "source": [
    "X = df.text.to_list()\n",
    "y = df.label\n",
    "\n",
    "pipe = make_pipeline(\n",
    "    CountVectorizer(),\n",
    "    LogisticRegression()\n",
    ")\n",
    "pipe.fit(X,y)\n",
    "\n",
    "dump(pipe, '7_save.joblib')"
   ]
  },
  {
   "cell_type": "code",
   "execution_count": 4,
   "id": "cd4de2ba",
   "metadata": {},
   "outputs": [
    {
     "data": {
      "text/plain": [
       "array([82], dtype=int64)"
      ]
     },
     "execution_count": 4,
     "metadata": {},
     "output_type": "execute_result"
    }
   ],
   "source": [
    "from joblib import load\n",
    "trained = load('7_save.joblib')\n",
    "trained.predict(['hello'])"
   ]
  },
  {
   "cell_type": "code",
   "execution_count": 5,
   "id": "8778116c",
   "metadata": {},
   "outputs": [],
   "source": [
    "class Evil:\n",
    "    def predict(self, X):\n",
    "        return [1 for _ in X]"
   ]
  },
  {
   "cell_type": "code",
   "execution_count": 6,
   "id": "d7b23256",
   "metadata": {},
   "outputs": [],
   "source": [
    "evil_pipe = Evil()"
   ]
  },
  {
   "cell_type": "code",
   "execution_count": 7,
   "id": "cbc61c60",
   "metadata": {},
   "outputs": [
    {
     "data": {
      "text/plain": [
       "['7_save_evil.joblib']"
      ]
     },
     "execution_count": 7,
     "metadata": {},
     "output_type": "execute_result"
    }
   ],
   "source": [
    "dump(evil_pipe, '7_save_evil.joblib')"
   ]
  },
  {
   "cell_type": "code",
   "execution_count": 8,
   "id": "9af28064",
   "metadata": {},
   "outputs": [
    {
     "data": {
      "text/plain": [
       "[1]"
      ]
     },
     "execution_count": 8,
     "metadata": {},
     "output_type": "execute_result"
    }
   ],
   "source": [
    "pipe_loaded = load('7_save_evil.joblib')\n",
    "pipe_loaded.predict(['hello'])"
   ]
  },
  {
   "cell_type": "code",
   "execution_count": 9,
   "id": "889653c1",
   "metadata": {},
   "outputs": [
    {
     "name": "stdout",
     "output_type": "stream",
     "text": [
      "3239ec92e23ec516a86bcf906c55b9eb\n",
      "92315453ee4dcaf50814e4548622acd3\n"
     ]
    }
   ],
   "source": [
    "import hashlib\n",
    "\n",
    "def calc_checksum(path):\n",
    "    md5_hash = hashlib.md5()\n",
    "    with open(path, 'rb') as f:\n",
    "        content = f.read()\n",
    "    md5_hash.update(content)\n",
    "    digest = md5_hash.hexdigest()\n",
    "    print(digest)\n",
    "\n",
    "calc_checksum('7_save.joblib')\n",
    "calc_checksum('7_save_evil.joblib')"
   ]
  },
  {
   "cell_type": "code",
   "execution_count": 10,
   "id": "38be4ca4",
   "metadata": {},
   "outputs": [
    {
     "data": {
      "text/plain": [
       "['classes_', 'coef_', 'intercept_', 'n_features_in_', 'n_iter_']"
      ]
     },
     "execution_count": 10,
     "metadata": {},
     "output_type": "execute_result"
    }
   ],
   "source": [
    "from sklearn.linear_model import LogisticRegression\n",
    "from sklearn.datasets import load_wine\n",
    "\n",
    "X,y = load_wine(return_X_y=True)\n",
    "clf = LogisticRegression(max_iter=10_000)\n",
    "\n",
    "prop_before = dir(clf)\n",
    "clf.fit(X,y)\n",
    "prop_after = dir(clf)\n",
    "\n",
    "[e for e in prop_after if e not in prop_before]"
   ]
  },
  {
   "cell_type": "code",
   "execution_count": 11,
   "id": "6b3dc435",
   "metadata": {},
   "outputs": [
    {
     "data": {
      "text/plain": [
       "array([-16.65933456,  22.52722423,  -5.86788967])"
      ]
     },
     "execution_count": 11,
     "metadata": {},
     "output_type": "execute_result"
    }
   ],
   "source": [
    "clf.intercept_"
   ]
  },
  {
   "cell_type": "code",
   "execution_count": 12,
   "id": "f4b8b03a",
   "metadata": {},
   "outputs": [],
   "source": [
    "import h5py\n",
    "\n",
    "def save_coef(classifier, filename):\n",
    "    with h5py.File(filename, 'w') as hf:\n",
    "        hf.create_dataset('coef', data=classifier.coef_)\n",
    "        hf.create_dataset('intercept', data=classifier.intercept_)\n",
    "        hf.create_dataset('classes', data=classifier.classes_)\n",
    "\n",
    "def load_coef(classifier, filename):\n",
    "    with h5py.File(filename, 'r') as hf:\n",
    "        coef = hf['coef'][:]\n",
    "        intercept = hf['intercept'][:]\n",
    "        classes = hf['classes'][:]\n",
    "    classifier.coef_ = coef\n",
    "    classifier.intercept_ = intercept\n",
    "    classifier.classes_ = classes"
   ]
  },
  {
   "cell_type": "code",
   "execution_count": 13,
   "id": "538cd826",
   "metadata": {},
   "outputs": [],
   "source": [
    "save_coef(clf, '7_clf.h5')"
   ]
  },
  {
   "cell_type": "code",
   "execution_count": 14,
   "id": "45f1f0fe",
   "metadata": {},
   "outputs": [
    {
     "data": {
      "text/plain": [
       "array([0, 0, 0, 0, 0, 0, 0, 0, 0, 0, 0, 0, 0, 0, 0, 0, 0, 0, 0, 0, 0, 0,\n",
       "       0, 0, 0, 1, 0, 0, 0, 0, 0, 0, 0, 0, 0, 0, 0, 0, 0, 0, 0, 0, 0, 0,\n",
       "       0, 0, 0, 0, 0, 0, 0, 0, 0, 0, 0, 0, 0, 0, 0, 1, 1, 1, 1, 1, 1, 1,\n",
       "       1, 1, 1, 1, 1, 1, 1, 1, 1, 1, 1, 1, 1, 1, 1, 1, 1, 1, 1, 1, 1, 1,\n",
       "       1, 1, 1, 1, 1, 1, 1, 1, 1, 1, 1, 1, 1, 1, 1, 1, 1, 1, 1, 1, 1, 1,\n",
       "       1, 1, 1, 1, 1, 1, 1, 1, 1, 1, 1, 1, 1, 1, 1, 1, 1, 1, 1, 1, 2, 2,\n",
       "       2, 2, 2, 2, 2, 2, 2, 2, 2, 2, 2, 2, 2, 2, 2, 2, 2, 2, 2, 2, 2, 2,\n",
       "       2, 2, 2, 2, 2, 2, 2, 2, 2, 2, 2, 2, 2, 2, 2, 2, 2, 2, 2, 2, 2, 2,\n",
       "       2, 2])"
      ]
     },
     "execution_count": 14,
     "metadata": {},
     "output_type": "execute_result"
    }
   ],
   "source": [
    "lr = LogisticRegression()\n",
    "load_coef(lr, '7_clf.h5')\n",
    "lr.predict(X)"
   ]
  },
  {
   "cell_type": "code",
   "execution_count": 15,
   "id": "4d856cdc",
   "metadata": {},
   "outputs": [
    {
     "data": {
      "text/html": [
       "<style>#sk-container-id-1 {color: black;}#sk-container-id-1 pre{padding: 0;}#sk-container-id-1 div.sk-toggleable {background-color: white;}#sk-container-id-1 label.sk-toggleable__label {cursor: pointer;display: block;width: 100%;margin-bottom: 0;padding: 0.3em;box-sizing: border-box;text-align: center;}#sk-container-id-1 label.sk-toggleable__label-arrow:before {content: \"▸\";float: left;margin-right: 0.25em;color: #696969;}#sk-container-id-1 label.sk-toggleable__label-arrow:hover:before {color: black;}#sk-container-id-1 div.sk-estimator:hover label.sk-toggleable__label-arrow:before {color: black;}#sk-container-id-1 div.sk-toggleable__content {max-height: 0;max-width: 0;overflow: hidden;text-align: left;background-color: #f0f8ff;}#sk-container-id-1 div.sk-toggleable__content pre {margin: 0.2em;color: black;border-radius: 0.25em;background-color: #f0f8ff;}#sk-container-id-1 input.sk-toggleable__control:checked~div.sk-toggleable__content {max-height: 200px;max-width: 100%;overflow: auto;}#sk-container-id-1 input.sk-toggleable__control:checked~label.sk-toggleable__label-arrow:before {content: \"▾\";}#sk-container-id-1 div.sk-estimator input.sk-toggleable__control:checked~label.sk-toggleable__label {background-color: #d4ebff;}#sk-container-id-1 div.sk-label input.sk-toggleable__control:checked~label.sk-toggleable__label {background-color: #d4ebff;}#sk-container-id-1 input.sk-hidden--visually {border: 0;clip: rect(1px 1px 1px 1px);clip: rect(1px, 1px, 1px, 1px);height: 1px;margin: -1px;overflow: hidden;padding: 0;position: absolute;width: 1px;}#sk-container-id-1 div.sk-estimator {font-family: monospace;background-color: #f0f8ff;border: 1px dotted black;border-radius: 0.25em;box-sizing: border-box;margin-bottom: 0.5em;}#sk-container-id-1 div.sk-estimator:hover {background-color: #d4ebff;}#sk-container-id-1 div.sk-parallel-item::after {content: \"\";width: 100%;border-bottom: 1px solid gray;flex-grow: 1;}#sk-container-id-1 div.sk-label:hover label.sk-toggleable__label {background-color: #d4ebff;}#sk-container-id-1 div.sk-serial::before {content: \"\";position: absolute;border-left: 1px solid gray;box-sizing: border-box;top: 0;bottom: 0;left: 50%;z-index: 0;}#sk-container-id-1 div.sk-serial {display: flex;flex-direction: column;align-items: center;background-color: white;padding-right: 0.2em;padding-left: 0.2em;position: relative;}#sk-container-id-1 div.sk-item {position: relative;z-index: 1;}#sk-container-id-1 div.sk-parallel {display: flex;align-items: stretch;justify-content: center;background-color: white;position: relative;}#sk-container-id-1 div.sk-item::before, #sk-container-id-1 div.sk-parallel-item::before {content: \"\";position: absolute;border-left: 1px solid gray;box-sizing: border-box;top: 0;bottom: 0;left: 50%;z-index: -1;}#sk-container-id-1 div.sk-parallel-item {display: flex;flex-direction: column;z-index: 1;position: relative;background-color: white;}#sk-container-id-1 div.sk-parallel-item:first-child::after {align-self: flex-end;width: 50%;}#sk-container-id-1 div.sk-parallel-item:last-child::after {align-self: flex-start;width: 50%;}#sk-container-id-1 div.sk-parallel-item:only-child::after {width: 0;}#sk-container-id-1 div.sk-dashed-wrapped {border: 1px dashed gray;margin: 0 0.4em 0.5em 0.4em;box-sizing: border-box;padding-bottom: 0.4em;background-color: white;}#sk-container-id-1 div.sk-label label {font-family: monospace;font-weight: bold;display: inline-block;line-height: 1.2em;}#sk-container-id-1 div.sk-label-container {text-align: center;}#sk-container-id-1 div.sk-container {/* jupyter's `normalize.less` sets `[hidden] { display: none; }` but bootstrap.min.css set `[hidden] { display: none !important; }` so we also need the `!important` here to be able to override the default hidden behavior on the sphinx rendered scikit-learn.org. See: https://github.com/scikit-learn/scikit-learn/issues/21755 */display: inline-block !important;position: relative;}#sk-container-id-1 div.sk-text-repr-fallback {display: none;}</style><div id=\"sk-container-id-1\" class=\"sk-top-container\"><div class=\"sk-text-repr-fallback\"><pre>Pipeline(steps=[(&#x27;countvectorizer&#x27;, CountVectorizer()),\n",
       "                (&#x27;logisticregression&#x27;, LogisticRegression())])</pre><b>In a Jupyter environment, please rerun this cell to show the HTML representation or trust the notebook. <br />On GitHub, the HTML representation is unable to render, please try loading this page with nbviewer.org.</b></div><div class=\"sk-container\" hidden><div class=\"sk-item sk-dashed-wrapped\"><div class=\"sk-label-container\"><div class=\"sk-label sk-toggleable\"><input class=\"sk-toggleable__control sk-hidden--visually\" id=\"sk-estimator-id-1\" type=\"checkbox\" ><label for=\"sk-estimator-id-1\" class=\"sk-toggleable__label sk-toggleable__label-arrow\">Pipeline</label><div class=\"sk-toggleable__content\"><pre>Pipeline(steps=[(&#x27;countvectorizer&#x27;, CountVectorizer()),\n",
       "                (&#x27;logisticregression&#x27;, LogisticRegression())])</pre></div></div></div><div class=\"sk-serial\"><div class=\"sk-item\"><div class=\"sk-estimator sk-toggleable\"><input class=\"sk-toggleable__control sk-hidden--visually\" id=\"sk-estimator-id-2\" type=\"checkbox\" ><label for=\"sk-estimator-id-2\" class=\"sk-toggleable__label sk-toggleable__label-arrow\">CountVectorizer</label><div class=\"sk-toggleable__content\"><pre>CountVectorizer()</pre></div></div></div><div class=\"sk-item\"><div class=\"sk-estimator sk-toggleable\"><input class=\"sk-toggleable__control sk-hidden--visually\" id=\"sk-estimator-id-3\" type=\"checkbox\" ><label for=\"sk-estimator-id-3\" class=\"sk-toggleable__label sk-toggleable__label-arrow\">LogisticRegression</label><div class=\"sk-toggleable__content\"><pre>LogisticRegression()</pre></div></div></div></div></div></div></div>"
      ],
      "text/plain": [
       "Pipeline(steps=[('countvectorizer', CountVectorizer()),\n",
       "                ('logisticregression', LogisticRegression())])"
      ]
     },
     "execution_count": 15,
     "metadata": {},
     "output_type": "execute_result"
    }
   ],
   "source": [
    "pipe"
   ]
  },
  {
   "cell_type": "code",
   "execution_count": 16,
   "id": "17e1e991",
   "metadata": {},
   "outputs": [],
   "source": [
    "from skl2onnx import convert_sklearn\n",
    "from skl2onnx.common.data_types import StringTensorType\n",
    "\n",
    "initial_types = [('text_input', StringTensorType([None, 1]))]\n",
    "onx = convert_sklearn(pipe, initial_types=initial_types)\n",
    "\n",
    "with open('7_onnx.onnx', 'wb') as f:\n",
    "    f.write(onx.SerializeToString())"
   ]
  },
  {
   "cell_type": "code",
   "execution_count": 17,
   "id": "c03ad7cc",
   "metadata": {},
   "outputs": [
    {
     "data": {
      "text/plain": [
       "{0: 0.004739089403301477,\n",
       " 1: 0.0038543727714568377,\n",
       " 2: 0.00090967578580603,\n",
       " 3: 0.0005303092184476554,\n",
       " 4: 0.0021704065147787333,\n",
       " 5: 0.007713638246059418,\n",
       " 6: 0.0008044824353419244,\n",
       " 7: 0.0012734602205455303,\n",
       " 8: 0.0023176090326160192,\n",
       " 9: 0.005703362636268139,\n",
       " 10: 0.010597948916256428,\n",
       " 11: 0.0014304597862064838,\n",
       " 12: 0.0017885735724121332,\n",
       " 13: 0.012635118328034878,\n",
       " 14: 0.008710585534572601,\n",
       " 15: 0.0015316539211198688,\n",
       " 16: 0.007715681102126837,\n",
       " 17: 0.0018564617494121194,\n",
       " 18: 0.003475870005786419,\n",
       " 19: 0.0027919479180127382,\n",
       " 20: 0.004640719387680292,\n",
       " 21: 0.0025059967301785946,\n",
       " 22: 0.0035873972810804844,\n",
       " 23: 0.00037493507261388004,\n",
       " 24: 0.0018336804350838065,\n",
       " 25: 0.021399937570095062,\n",
       " 26: 0.005533374845981598,\n",
       " 27: 0.0013260310515761375,\n",
       " 28: 0.0014045751886442304,\n",
       " 29: 0.005757700651884079,\n",
       " 30: 0.03491854667663574,\n",
       " 31: 0.004703733138740063,\n",
       " 32: 0.00686904601752758,\n",
       " 33: 0.007320633623749018,\n",
       " 34: 0.0030579655431210995,\n",
       " 35: 0.0017219164874404669,\n",
       " 36: 0.010485533624887466,\n",
       " 37: 0.0011595163960009813,\n",
       " 38: 0.0036851009353995323,\n",
       " 39: 0.001673947088420391,\n",
       " 40: 0.0019532230217009783,\n",
       " 41: 0.001078109024092555,\n",
       " 42: 0.10963962227106094,\n",
       " 43: 0.0019423366757109761,\n",
       " 44: 0.0008677252335473895,\n",
       " 45: 0.0011490669567137957,\n",
       " 46: 0.006195724010467529,\n",
       " 47: 0.0010209580650553107,\n",
       " 48: 0.00032705304329283535,\n",
       " 49: 0.0014766902895644307,\n",
       " 50: 0.0008834601612761617,\n",
       " 51: 0.005723242647945881,\n",
       " 52: 0.00261511467397213,\n",
       " 53: 0.003994298167526722,\n",
       " 54: 0.0024127031210809946,\n",
       " 55: 0.005368540994822979,\n",
       " 56: 0.0010204878635704517,\n",
       " 57: 0.004963087849318981,\n",
       " 58: 0.0035805143415927887,\n",
       " 59: 0.0022287326864898205,\n",
       " 60: 0.002035526093095541,\n",
       " 61: 0.0022752108052372932,\n",
       " 62: 0.0013540699146687984,\n",
       " 63: 0.0009222399676218629,\n",
       " 64: 0.0019472461426630616,\n",
       " 65: 0.001296958071179688,\n",
       " 66: 0.004393495619297028,\n",
       " 67: 0.003562554018571973,\n",
       " 68: 0.0038965586572885513,\n",
       " 69: 0.0012144618667662144,\n",
       " 70: 0.0066107893362641335,\n",
       " 71: 0.0034602510277181864,\n",
       " 72: 0.003520993748679757,\n",
       " 73: 0.004997329320758581,\n",
       " 74: 0.002607401693239808,\n",
       " 75: 0.0030799785163253546,\n",
       " 76: 0.0014933820348232985,\n",
       " 77: 0.0036243125796318054,\n",
       " 78: 0.00119192770216614,\n",
       " 79: 0.005267027299851179,\n",
       " 80: 0.0020156840328127146,\n",
       " 81: 0.0017844225512817502,\n",
       " 82: 0.04057924821972847,\n",
       " 83: 0.0051146275363862514,\n",
       " 84: 0.003627549856901169,\n",
       " 85: 0.0009319011005572975,\n",
       " 86: 0.0021944097243249416,\n",
       " 87: 0.0017929712776094675,\n",
       " 88: 0.0045716650784015656,\n",
       " 89: 0.0009184001246467233,\n",
       " 90: 0.001306016929447651,\n",
       " 91: 0.0018458638805896044,\n",
       " 92: 0.006286908406764269,\n",
       " 93: 0.004051354713737965,\n",
       " 94: 0.001958646345883608,\n",
       " 95: 0.0046983868815004826,\n",
       " 96: 0.00573668722063303,\n",
       " 97: 0.0020729522220790386,\n",
       " 98: 0.0019529955461621284,\n",
       " 99: 0.005069789942353964,\n",
       " 100: 0.0019101002253592014,\n",
       " 101: 0.0018508117645978928,\n",
       " 102: 0.003402592148631811,\n",
       " 103: 0.0012628345284610987,\n",
       " 104: 0.005600891541689634,\n",
       " 105: 0.0027316324412822723,\n",
       " 106: 0.015195381827652454,\n",
       " 107: 0.07609942555427551,\n",
       " 108: 0.0017660687444731593,\n",
       " 109: 0.0015247792471200228,\n",
       " 110: 0.0019378620199859142,\n",
       " 111: 0.003336438210681081,\n",
       " 112: 0.002795837353914976,\n",
       " 113: 0.0013967383420094848,\n",
       " 114: 0.06538167595863342,\n",
       " 115: 0.0009618813637644053,\n",
       " 116: 0.0013073839945718646,\n",
       " 117: 0.00625360244885087,\n",
       " 118: 0.005185967776924372,\n",
       " 119: 0.009686154313385487,\n",
       " 120: 0.0036690542474389076,\n",
       " 121: 0.06058238074183464,\n",
       " 122: 0.004184189718216658,\n",
       " 123: 0.0010297901462763548,\n",
       " 124: 0.03653392568230629,\n",
       " 125: 0.0021061503794044256,\n",
       " 126: 0.0013399221934378147,\n",
       " 127: 0.0018937442218884826,\n",
       " 128: 0.004572299309074879,\n",
       " 129: 0.0064591579139232635,\n",
       " 130: 0.0019608312286436558,\n",
       " 131: 0.0034589930437505245,\n",
       " 132: 0.0014880961971357465,\n",
       " 133: 0.004659527912735939,\n",
       " 134: 0.005034350790083408,\n",
       " 135: 0.0030167086515575647,\n",
       " 136: 0.005273934453725815,\n",
       " 137: 0.000793031242210418,\n",
       " 138: 0.010300631634891033,\n",
       " 139: 0.011269930750131607,\n",
       " 140: 0.0024683387018740177,\n",
       " 141: 0.0011705118231475353,\n",
       " 142: 0.0027905351016670465,\n",
       " 143: 0.0006609741249121726,\n",
       " 144: 0.010507400147616863,\n",
       " 145: 0.006175273563712835,\n",
       " 146: 0.000828114862088114,\n",
       " 147: 0.051221925765275955,\n",
       " 148: 0.001963619375601411,\n",
       " 149: 0.0018234526505693793,\n",
       " 150: 0.018961500376462936}"
      ]
     },
     "execution_count": 17,
     "metadata": {},
     "output_type": "execute_result"
    }
   ],
   "source": [
    "import numpy as np\n",
    "import onnxruntime as rt\n",
    "\n",
    "session = rt.InferenceSession('7_onnx.onnx')\n",
    "input_name = session.get_inputs()[0].name\n",
    "\n",
    "query = 'example'\n",
    "_, probas = session.run(None, {input_name: np.array([[query]])})\n",
    "probas[0]"
   ]
  },
  {
   "cell_type": "code",
   "execution_count": null,
   "id": "7da452af",
   "metadata": {},
   "outputs": [],
   "source": []
  }
 ],
 "metadata": {
  "kernelspec": {
   "display_name": "Python 3 (ipykernel)",
   "language": "python",
   "name": "python3"
  },
  "language_info": {
   "codemirror_mode": {
    "name": "ipython",
    "version": 3
   },
   "file_extension": ".py",
   "mimetype": "text/x-python",
   "name": "python",
   "nbconvert_exporter": "python",
   "pygments_lexer": "ipython3",
   "version": "3.10.9"
  }
 },
 "nbformat": 4,
 "nbformat_minor": 5
}
